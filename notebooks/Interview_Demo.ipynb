{
 "cells": [
  {
   "cell_type": "markdown",
   "metadata": {},
   "source": [
    "# Reddit Upvote Predictor Demo\n",
    "\n",
    "This notebook orchestrates the local quick-start pipeline. It works entirely offline by generating a synthetic dataset on demand, training a fast model, evaluating diagnostics, and compiling the final HTML report."
   ]
  },
  {
   "cell_type": "code",
   "execution_count": null,
   "metadata": {},
   "outputs": [],
   "source": [
    "from pathlib import Path\n",
    "import subprocess\n",
    "import sys\n",
    "\n",
    "PROJECT_ROOT = Path('..').resolve()\n",
    "print(f'Project root: {PROJECT_ROOT}')\n",
    "\n",
    "def run(cmd):\n",
    "    print('\\n$ ' + ' '.join(cmd))\n",
    "    subprocess.run(cmd, cwd=PROJECT_ROOT, check=True)\n",
    "\n",
    "run([sys.executable, '-m', 'src.cli', 'prepare'])"
   ]
  },
  {
   "cell_type": "markdown",
   "metadata": {},
   "source": [
    "## Train embedding model (with automatic offline fallback)"
   ]
  },
  {
   "cell_type": "code",
   "execution_count": null,
   "metadata": {},
   "outputs": [],
   "source": [
    "run([sys.executable, '-m', 'src.cli', 'train-embed'])"
   ]
  },
  {
   "cell_type": "markdown",
   "metadata": {},
   "source": [
    "## Evaluate"
   ]
  },
  {
   "cell_type": "code",
   "execution_count": null,
   "metadata": {},
   "outputs": [],
   "source": [
    "run([sys.executable, '-m', 'src.cli', 'evaluate'])"
   ]
  },
  {
   "cell_type": "markdown",
   "metadata": {},
   "source": [
    "## Build report"
   ]
  },
  {
   "cell_type": "code",
   "execution_count": null,
   "metadata": {},
   "outputs": [],
   "source": [
    "run([sys.executable, '-m', 'src.cli', 'report'])"
   ]
  },
  {
   "cell_type": "markdown",
   "metadata": {},
   "source": [
    "All done! Explore `reports/html/latest_report.html` for the polished overview and `reports/figures/` for detailed diagnostics."
   ]
  }
 ],
 "metadata": {
  "kernelspec": {
   "display_name": "Python 3",
   "language": "python",
   "name": "python3"
  },
  "language_info": {
   "name": "python",
   "version": "3.10"
  }
 },
 "nbformat": 4,
 "nbformat_minor": 5
}
